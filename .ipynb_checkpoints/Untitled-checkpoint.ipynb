{
 "cells": [
  {
   "cell_type": "code",
   "execution_count": 1,
   "id": "2ebd39e5",
   "metadata": {},
   "outputs": [
    {
     "name": "stdout",
     "output_type": "stream",
     "text": [
      "Requirement already satisfied: torch in c:\\users\\91897\\anaconda3\\lib\\site-packages (2.1.0)\n",
      "Requirement already satisfied: torchvision in c:\\users\\91897\\anaconda3\\lib\\site-packages (0.16.0)\n",
      "Requirement already satisfied: torchaudio in c:\\users\\91897\\anaconda3\\lib\\site-packages (2.1.0)\n",
      "Requirement already satisfied: filelock in c:\\users\\91897\\anaconda3\\lib\\site-packages (from torch) (3.6.0)\n",
      "Requirement already satisfied: typing-extensions in c:\\users\\91897\\anaconda3\\lib\\site-packages (from torch) (4.5.0)\n",
      "Requirement already satisfied: sympy in c:\\users\\91897\\anaconda3\\lib\\site-packages (from torch) (1.10.1)\n",
      "Requirement already satisfied: networkx in c:\\users\\91897\\anaconda3\\lib\\site-packages (from torch) (2.8.4)\n",
      "Requirement already satisfied: jinja2 in c:\\users\\91897\\anaconda3\\lib\\site-packages (from torch) (2.11.3)\n",
      "Requirement already satisfied: fsspec in c:\\users\\91897\\anaconda3\\lib\\site-packages (from torch) (2022.7.1)\n",
      "Requirement already satisfied: numpy in c:\\users\\91897\\anaconda3\\lib\\site-packages (from torchvision) (1.24.3)\n",
      "Requirement already satisfied: requests in c:\\users\\91897\\anaconda3\\lib\\site-packages (from torchvision) (2.28.1)\n",
      "Requirement already satisfied: pillow!=8.3.*,>=5.3.0 in c:\\users\\91897\\anaconda3\\lib\\site-packages (from torchvision) (10.1.0)\n",
      "Requirement already satisfied: MarkupSafe>=0.23 in c:\\users\\91897\\anaconda3\\lib\\site-packages (from jinja2->torch) (2.0.1)\n",
      "Requirement already satisfied: charset-normalizer<3,>=2 in c:\\users\\91897\\anaconda3\\lib\\site-packages (from requests->torchvision) (2.0.4)\n",
      "Requirement already satisfied: idna<4,>=2.5 in c:\\users\\91897\\anaconda3\\lib\\site-packages (from requests->torchvision) (3.3)\n",
      "Requirement already satisfied: urllib3<1.27,>=1.21.1 in c:\\users\\91897\\anaconda3\\lib\\site-packages (from requests->torchvision) (1.26.11)\n",
      "Requirement already satisfied: certifi>=2017.4.17 in c:\\users\\91897\\anaconda3\\lib\\site-packages (from requests->torchvision) (2022.9.14)\n",
      "Requirement already satisfied: mpmath>=0.19 in c:\\users\\91897\\anaconda3\\lib\\site-packages (from sympy->torch) (1.2.1)\n"
     ]
    },
    {
     "name": "stderr",
     "output_type": "stream",
     "text": [
      "WARNING: Ignoring invalid distribution -rotobuf (c:\\users\\91897\\anaconda3\\lib\\site-packages)\n",
      "WARNING: Ignoring invalid distribution -treamlit (c:\\users\\91897\\anaconda3\\lib\\site-packages)\n",
      "WARNING: Ignoring invalid distribution -rotobuf (c:\\users\\91897\\anaconda3\\lib\\site-packages)\n",
      "WARNING: Ignoring invalid distribution -treamlit (c:\\users\\91897\\anaconda3\\lib\\site-packages)\n"
     ]
    }
   ],
   "source": [
    "!pip3 install torch torchvision torchaudio"
   ]
  },
  {
   "cell_type": "code",
   "execution_count": 2,
   "id": "53babf8b",
   "metadata": {},
   "outputs": [
    {
     "name": "stderr",
     "output_type": "stream",
     "text": [
      "Cloning into 'yolov5'...\n"
     ]
    }
   ],
   "source": [
    "!git clone https://github.com/ultralytics/yolov5"
   ]
  },
  {
   "cell_type": "code",
   "execution_count": 3,
   "id": "3f3dac06",
   "metadata": {},
   "outputs": [
    {
     "name": "stdout",
     "output_type": "stream",
     "text": [
      "Requirement already satisfied: gitpython>=3.1.30 in c:\\users\\91897\\anaconda3\\lib\\site-packages (from -r requirements.txt (line 5)) (3.1.37)\n",
      "Requirement already satisfied: matplotlib>=3.3 in c:\\users\\91897\\anaconda3\\lib\\site-packages (from -r requirements.txt (line 6)) (3.5.2)\n",
      "Requirement already satisfied: numpy>=1.22.2 in c:\\users\\91897\\anaconda3\\lib\\site-packages (from -r requirements.txt (line 7)) (1.24.3)\n",
      "Requirement already satisfied: opencv-python>=4.1.1 in c:\\users\\91897\\anaconda3\\lib\\site-packages (from -r requirements.txt (line 8)) (4.8.0.76)\n",
      "Requirement already satisfied: Pillow>=10.0.1 in c:\\users\\91897\\anaconda3\\lib\\site-packages (from -r requirements.txt (line 9)) (10.1.0)\n",
      "Requirement already satisfied: psutil in c:\\users\\91897\\anaconda3\\lib\\site-packages (from -r requirements.txt (line 10)) (5.9.0)\n",
      "Requirement already satisfied: PyYAML>=5.3.1 in c:\\users\\91897\\anaconda3\\lib\\site-packages (from -r requirements.txt (line 11)) (6.0)\n",
      "Requirement already satisfied: requests>=2.23.0 in c:\\users\\91897\\anaconda3\\lib\\site-packages (from -r requirements.txt (line 12)) (2.28.1)\n",
      "Requirement already satisfied: scipy>=1.4.1 in c:\\users\\91897\\anaconda3\\lib\\site-packages (from -r requirements.txt (line 13)) (1.9.1)\n",
      "Requirement already satisfied: thop>=0.1.1 in c:\\users\\91897\\anaconda3\\lib\\site-packages (from -r requirements.txt (line 14)) (0.1.1.post2209072238)\n",
      "Requirement already satisfied: torch>=1.8.0 in c:\\users\\91897\\anaconda3\\lib\\site-packages (from -r requirements.txt (line 15)) (2.1.0)\n",
      "Requirement already satisfied: torchvision>=0.9.0 in c:\\users\\91897\\anaconda3\\lib\\site-packages (from -r requirements.txt (line 16)) (0.16.0)\n",
      "Requirement already satisfied: tqdm>=4.64.0 in c:\\users\\91897\\anaconda3\\lib\\site-packages (from -r requirements.txt (line 17)) (4.64.1)\n",
      "Requirement already satisfied: ultralytics>=8.0.147 in c:\\users\\91897\\anaconda3\\lib\\site-packages (from -r requirements.txt (line 18)) (8.0.207)\n",
      "Requirement already satisfied: pandas>=1.1.4 in c:\\users\\91897\\anaconda3\\lib\\site-packages (from -r requirements.txt (line 27)) (1.4.4)\n",
      "Requirement already satisfied: seaborn>=0.11.0 in c:\\users\\91897\\anaconda3\\lib\\site-packages (from -r requirements.txt (line 28)) (0.11.2)\n",
      "Requirement already satisfied: setuptools>=65.5.1 in c:\\users\\91897\\anaconda3\\lib\\site-packages (from -r requirements.txt (line 42)) (68.1.2)\n",
      "Requirement already satisfied: gitdb<5,>=4.0.1 in c:\\users\\91897\\anaconda3\\lib\\site-packages (from gitpython>=3.1.30->-r requirements.txt (line 5)) (4.0.10)\n",
      "Requirement already satisfied: cycler>=0.10 in c:\\users\\91897\\anaconda3\\lib\\site-packages (from matplotlib>=3.3->-r requirements.txt (line 6)) (0.11.0)\n",
      "Requirement already satisfied: fonttools>=4.22.0 in c:\\users\\91897\\anaconda3\\lib\\site-packages (from matplotlib>=3.3->-r requirements.txt (line 6)) (4.25.0)\n",
      "Requirement already satisfied: kiwisolver>=1.0.1 in c:\\users\\91897\\anaconda3\\lib\\site-packages (from matplotlib>=3.3->-r requirements.txt (line 6)) (1.4.2)\n",
      "Requirement already satisfied: packaging>=20.0 in c:\\users\\91897\\anaconda3\\lib\\site-packages (from matplotlib>=3.3->-r requirements.txt (line 6)) (21.3)\n",
      "Requirement already satisfied: pyparsing>=2.2.1 in c:\\users\\91897\\anaconda3\\lib\\site-packages (from matplotlib>=3.3->-r requirements.txt (line 6)) (3.0.9)\n",
      "Requirement already satisfied: python-dateutil>=2.7 in c:\\users\\91897\\anaconda3\\lib\\site-packages (from matplotlib>=3.3->-r requirements.txt (line 6)) (2.8.2)\n",
      "Requirement already satisfied: charset-normalizer<3,>=2 in c:\\users\\91897\\anaconda3\\lib\\site-packages (from requests>=2.23.0->-r requirements.txt (line 12)) (2.0.4)\n",
      "Requirement already satisfied: idna<4,>=2.5 in c:\\users\\91897\\anaconda3\\lib\\site-packages (from requests>=2.23.0->-r requirements.txt (line 12)) (3.3)\n",
      "Requirement already satisfied: urllib3<1.27,>=1.21.1 in c:\\users\\91897\\anaconda3\\lib\\site-packages (from requests>=2.23.0->-r requirements.txt (line 12)) (1.26.11)\n",
      "Requirement already satisfied: certifi>=2017.4.17 in c:\\users\\91897\\anaconda3\\lib\\site-packages (from requests>=2.23.0->-r requirements.txt (line 12)) (2022.9.14)\n",
      "Requirement already satisfied: filelock in c:\\users\\91897\\anaconda3\\lib\\site-packages (from torch>=1.8.0->-r requirements.txt (line 15)) (3.6.0)\n",
      "Requirement already satisfied: typing-extensions in c:\\users\\91897\\anaconda3\\lib\\site-packages (from torch>=1.8.0->-r requirements.txt (line 15)) (4.5.0)\n",
      "Requirement already satisfied: sympy in c:\\users\\91897\\anaconda3\\lib\\site-packages (from torch>=1.8.0->-r requirements.txt (line 15)) (1.10.1)\n",
      "Requirement already satisfied: networkx in c:\\users\\91897\\anaconda3\\lib\\site-packages (from torch>=1.8.0->-r requirements.txt (line 15)) (2.8.4)\n",
      "Requirement already satisfied: jinja2 in c:\\users\\91897\\anaconda3\\lib\\site-packages (from torch>=1.8.0->-r requirements.txt (line 15)) (2.11.3)\n",
      "Requirement already satisfied: fsspec in c:\\users\\91897\\anaconda3\\lib\\site-packages (from torch>=1.8.0->-r requirements.txt (line 15)) (2022.7.1)\n",
      "Requirement already satisfied: colorama in c:\\users\\91897\\anaconda3\\lib\\site-packages (from tqdm>=4.64.0->-r requirements.txt (line 17)) (0.4.6)\n",
      "Requirement already satisfied: py-cpuinfo in c:\\users\\91897\\anaconda3\\lib\\site-packages (from ultralytics>=8.0.147->-r requirements.txt (line 18)) (9.0.0)\n",
      "Requirement already satisfied: pytz>=2020.1 in c:\\users\\91897\\anaconda3\\lib\\site-packages (from pandas>=1.1.4->-r requirements.txt (line 27)) (2022.1)\n",
      "Requirement already satisfied: smmap<6,>=3.0.1 in c:\\users\\91897\\anaconda3\\lib\\site-packages (from gitdb<5,>=4.0.1->gitpython>=3.1.30->-r requirements.txt (line 5)) (5.0.1)\n",
      "Requirement already satisfied: six>=1.5 in c:\\users\\91897\\anaconda3\\lib\\site-packages (from python-dateutil>=2.7->matplotlib>=3.3->-r requirements.txt (line 6)) (1.15.0)\n",
      "Requirement already satisfied: MarkupSafe>=0.23 in c:\\users\\91897\\anaconda3\\lib\\site-packages (from jinja2->torch>=1.8.0->-r requirements.txt (line 15)) (2.0.1)\n",
      "Requirement already satisfied: mpmath>=0.19 in c:\\users\\91897\\anaconda3\\lib\\site-packages (from sympy->torch>=1.8.0->-r requirements.txt (line 15)) (1.2.1)\n"
     ]
    },
    {
     "name": "stderr",
     "output_type": "stream",
     "text": [
      "WARNING: Ignoring invalid distribution -rotobuf (c:\\users\\91897\\anaconda3\\lib\\site-packages)\n",
      "WARNING: Ignoring invalid distribution -treamlit (c:\\users\\91897\\anaconda3\\lib\\site-packages)\n",
      "WARNING: Ignoring invalid distribution -rotobuf (c:\\users\\91897\\anaconda3\\lib\\site-packages)\n",
      "WARNING: Ignoring invalid distribution -treamlit (c:\\users\\91897\\anaconda3\\lib\\site-packages)\n"
     ]
    }
   ],
   "source": [
    "!cd yolov5 & pip install -r requirements.txt"
   ]
  },
  {
   "cell_type": "code",
   "execution_count": 4,
   "id": "d36dcb41",
   "metadata": {},
   "outputs": [],
   "source": [
    "import torch\n",
    "import matplotlib.pyplot as plt\n",
    "import cv2\n",
    "import numpy as np"
   ]
  },
  {
   "cell_type": "markdown",
   "id": "e429c443",
   "metadata": {},
   "source": [
    "### COLLECTING IMAGES"
   ]
  },
  {
   "cell_type": "code",
   "execution_count": null,
   "id": "95735052",
   "metadata": {},
   "outputs": [],
   "source": [
    "import os\n",
    "import cv2\n",
    "import time\n",
    "\n",
    "# Create directories for images\n",
    "IMAGES_PATH = os.path.join(\"data\", \"images\")\n",
    "if not os.path.exists(IMAGES_PATH):\n",
    "    os.makedirs(IMAGES_PATH)\n",
    "\n",
    "labels = [\"real\",\"fake\"]\n",
    "number_images = 30\n",
    "\n",
    "cap = cv2.VideoCapture(0)\n",
    "\n",
    "for label in labels:\n",
    "    print(\"Collecting images for {}.\".format(label))\n",
    "    time.sleep(3)  # Give time to prepare before capturing images\n",
    "\n",
    "    for img_num in range(number_images):\n",
    "        print(\"Collecting images for {} for image number {}.\".format(label, img_num))\n",
    "\n",
    "        ret, frame = cap.read()\n",
    "        cv2.imshow(\"Image Collection\", frame)\n",
    "        key = cv2.waitKey(0)\n",
    "\n",
    "        if key == ord('s'):  # Press 's' to save images\n",
    "            img_name = os.path.join(IMAGES_PATH, label + \"_\" + str(img_num) + \".jpg\")\n",
    "            cv2.imwrite(img_name, frame)\n",
    "            print(\"Image saved:\", img_name)\n",
    "            time.sleep(1)  # Optional delay to see the confirmation\n",
    "        elif key == ord('q'):  # Press 'q' to quit the process\n",
    "            break\n",
    "\n",
    "    if key == ord('q'):\n",
    "        break\n",
    "\n",
    "cap.release()\n",
    "cv2.destroyAllWindows()\n"
   ]
  }
 ],
 "metadata": {
  "kernelspec": {
   "display_name": "Python 3 (ipykernel)",
   "language": "python",
   "name": "python3"
  },
  "language_info": {
   "codemirror_mode": {
    "name": "ipython",
    "version": 3
   },
   "file_extension": ".py",
   "mimetype": "text/x-python",
   "name": "python",
   "nbconvert_exporter": "python",
   "pygments_lexer": "ipython3",
   "version": "3.9.13"
  }
 },
 "nbformat": 4,
 "nbformat_minor": 5
}
