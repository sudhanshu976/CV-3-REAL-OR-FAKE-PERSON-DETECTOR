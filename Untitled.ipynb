{
 "cells": [
  {
   "cell_type": "code",
   "execution_count": 1,
   "id": "336f2fa5",
   "metadata": {},
   "outputs": [
    {
     "name": "stdout",
     "output_type": "stream",
     "text": [
      "Requirement already satisfied: torch in c:\\users\\91897\\anaconda3\\lib\\site-packages (2.1.0)\n",
      "Requirement already satisfied: torchvision in c:\\users\\91897\\anaconda3\\lib\\site-packages (0.16.0)\n",
      "Requirement already satisfied: torchaudio in c:\\users\\91897\\anaconda3\\lib\\site-packages (2.1.0)\n",
      "Requirement already satisfied: filelock in c:\\users\\91897\\anaconda3\\lib\\site-packages (from torch) (3.6.0)\n",
      "Requirement already satisfied: typing-extensions in c:\\users\\91897\\anaconda3\\lib\\site-packages (from torch) (4.5.0)\n",
      "Requirement already satisfied: sympy in c:\\users\\91897\\anaconda3\\lib\\site-packages (from torch) (1.10.1)\n",
      "Requirement already satisfied: networkx in c:\\users\\91897\\anaconda3\\lib\\site-packages (from torch) (2.8.4)\n",
      "Requirement already satisfied: jinja2 in c:\\users\\91897\\anaconda3\\lib\\site-packages (from torch) (2.11.3)\n",
      "Requirement already satisfied: fsspec in c:\\users\\91897\\anaconda3\\lib\\site-packages (from torch) (2022.7.1)\n",
      "Requirement already satisfied: numpy in c:\\users\\91897\\anaconda3\\lib\\site-packages (from torchvision) (1.24.3)\n",
      "Requirement already satisfied: requests in c:\\users\\91897\\anaconda3\\lib\\site-packages (from torchvision) (2.28.1)\n",
      "Requirement already satisfied: pillow!=8.3.*,>=5.3.0 in c:\\users\\91897\\anaconda3\\lib\\site-packages (from torchvision) (10.1.0)\n",
      "Requirement already satisfied: MarkupSafe>=0.23 in c:\\users\\91897\\anaconda3\\lib\\site-packages (from jinja2->torch) (2.0.1)\n",
      "Requirement already satisfied: charset-normalizer<3,>=2 in c:\\users\\91897\\anaconda3\\lib\\site-packages (from requests->torchvision) (2.0.4)\n",
      "Requirement already satisfied: idna<4,>=2.5 in c:\\users\\91897\\anaconda3\\lib\\site-packages (from requests->torchvision) (3.3)\n",
      "Requirement already satisfied: urllib3<1.27,>=1.21.1 in c:\\users\\91897\\anaconda3\\lib\\site-packages (from requests->torchvision) (1.26.11)\n",
      "Requirement already satisfied: certifi>=2017.4.17 in c:\\users\\91897\\anaconda3\\lib\\site-packages (from requests->torchvision) (2022.9.14)\n",
      "Requirement already satisfied: mpmath>=0.19 in c:\\users\\91897\\anaconda3\\lib\\site-packages (from sympy->torch) (1.2.1)\n"
     ]
    },
    {
     "name": "stderr",
     "output_type": "stream",
     "text": [
      "WARNING: Ignoring invalid distribution -rotobuf (c:\\users\\91897\\anaconda3\\lib\\site-packages)\n",
      "WARNING: Ignoring invalid distribution -treamlit (c:\\users\\91897\\anaconda3\\lib\\site-packages)\n",
      "WARNING: Ignoring invalid distribution -rotobuf (c:\\users\\91897\\anaconda3\\lib\\site-packages)\n",
      "WARNING: Ignoring invalid distribution -treamlit (c:\\users\\91897\\anaconda3\\lib\\site-packages)\n"
     ]
    }
   ],
   "source": [
    "!pip3 install torch torchvision torchaudio"
   ]
  },
  {
   "cell_type": "code",
   "execution_count": 2,
   "id": "68303e32",
   "metadata": {},
   "outputs": [
    {
     "name": "stderr",
     "output_type": "stream",
     "text": [
      "Cloning into 'yolov5'...\n"
     ]
    }
   ],
   "source": [
    "!git clone https://github.com/ultralytics/yolov5"
   ]
  },
  {
   "cell_type": "code",
   "execution_count": 3,
   "id": "7f67a944",
   "metadata": {},
   "outputs": [
    {
     "name": "stdout",
     "output_type": "stream",
     "text": [
      "Requirement already satisfied: gitpython>=3.1.30 in c:\\users\\91897\\anaconda3\\lib\\site-packages (from -r requirements.txt (line 5)) (3.1.37)\n",
      "Requirement already satisfied: matplotlib>=3.3 in c:\\users\\91897\\anaconda3\\lib\\site-packages (from -r requirements.txt (line 6)) (3.5.2)\n",
      "Requirement already satisfied: numpy>=1.22.2 in c:\\users\\91897\\anaconda3\\lib\\site-packages (from -r requirements.txt (line 7)) (1.24.3)\n",
      "Requirement already satisfied: opencv-python>=4.1.1 in c:\\users\\91897\\anaconda3\\lib\\site-packages (from -r requirements.txt (line 8)) (4.8.0.76)\n",
      "Requirement already satisfied: Pillow>=10.0.1 in c:\\users\\91897\\anaconda3\\lib\\site-packages (from -r requirements.txt (line 9)) (10.1.0)\n",
      "Requirement already satisfied: psutil in c:\\users\\91897\\anaconda3\\lib\\site-packages (from -r requirements.txt (line 10)) (5.9.0)\n",
      "Requirement already satisfied: PyYAML>=5.3.1 in c:\\users\\91897\\anaconda3\\lib\\site-packages (from -r requirements.txt (line 11)) (6.0)\n",
      "Requirement already satisfied: requests>=2.23.0 in c:\\users\\91897\\anaconda3\\lib\\site-packages (from -r requirements.txt (line 12)) (2.28.1)\n",
      "Requirement already satisfied: scipy>=1.4.1 in c:\\users\\91897\\anaconda3\\lib\\site-packages (from -r requirements.txt (line 13)) (1.9.1)\n",
      "Requirement already satisfied: thop>=0.1.1 in c:\\users\\91897\\anaconda3\\lib\\site-packages (from -r requirements.txt (line 14)) (0.1.1.post2209072238)\n",
      "Requirement already satisfied: torch>=1.8.0 in c:\\users\\91897\\anaconda3\\lib\\site-packages (from -r requirements.txt (line 15)) (2.1.0)\n",
      "Requirement already satisfied: torchvision>=0.9.0 in c:\\users\\91897\\anaconda3\\lib\\site-packages (from -r requirements.txt (line 16)) (0.16.0)\n",
      "Requirement already satisfied: tqdm>=4.64.0 in c:\\users\\91897\\anaconda3\\lib\\site-packages (from -r requirements.txt (line 17)) (4.64.1)\n",
      "Requirement already satisfied: ultralytics>=8.0.147 in c:\\users\\91897\\anaconda3\\lib\\site-packages (from -r requirements.txt (line 18)) (8.0.207)\n",
      "Requirement already satisfied: pandas>=1.1.4 in c:\\users\\91897\\anaconda3\\lib\\site-packages (from -r requirements.txt (line 27)) (1.4.4)\n",
      "Requirement already satisfied: seaborn>=0.11.0 in c:\\users\\91897\\anaconda3\\lib\\site-packages (from -r requirements.txt (line 28)) (0.11.2)\n",
      "Requirement already satisfied: setuptools>=65.5.1 in c:\\users\\91897\\anaconda3\\lib\\site-packages (from -r requirements.txt (line 42)) (68.1.2)\n",
      "Requirement already satisfied: gitdb<5,>=4.0.1 in c:\\users\\91897\\anaconda3\\lib\\site-packages (from gitpython>=3.1.30->-r requirements.txt (line 5)) (4.0.10)\n",
      "Requirement already satisfied: cycler>=0.10 in c:\\users\\91897\\anaconda3\\lib\\site-packages (from matplotlib>=3.3->-r requirements.txt (line 6)) (0.11.0)\n",
      "Requirement already satisfied: fonttools>=4.22.0 in c:\\users\\91897\\anaconda3\\lib\\site-packages (from matplotlib>=3.3->-r requirements.txt (line 6)) (4.25.0)\n",
      "Requirement already satisfied: kiwisolver>=1.0.1 in c:\\users\\91897\\anaconda3\\lib\\site-packages (from matplotlib>=3.3->-r requirements.txt (line 6)) (1.4.2)\n",
      "Requirement already satisfied: packaging>=20.0 in c:\\users\\91897\\anaconda3\\lib\\site-packages (from matplotlib>=3.3->-r requirements.txt (line 6)) (21.3)\n",
      "Requirement already satisfied: pyparsing>=2.2.1 in c:\\users\\91897\\anaconda3\\lib\\site-packages (from matplotlib>=3.3->-r requirements.txt (line 6)) (3.0.9)\n",
      "Requirement already satisfied: python-dateutil>=2.7 in c:\\users\\91897\\anaconda3\\lib\\site-packages (from matplotlib>=3.3->-r requirements.txt (line 6)) (2.8.2)\n",
      "Requirement already satisfied: charset-normalizer<3,>=2 in c:\\users\\91897\\anaconda3\\lib\\site-packages (from requests>=2.23.0->-r requirements.txt (line 12)) (2.0.4)\n",
      "Requirement already satisfied: idna<4,>=2.5 in c:\\users\\91897\\anaconda3\\lib\\site-packages (from requests>=2.23.0->-r requirements.txt (line 12)) (3.3)\n",
      "Requirement already satisfied: urllib3<1.27,>=1.21.1 in c:\\users\\91897\\anaconda3\\lib\\site-packages (from requests>=2.23.0->-r requirements.txt (line 12)) (1.26.11)\n",
      "Requirement already satisfied: certifi>=2017.4.17 in c:\\users\\91897\\anaconda3\\lib\\site-packages (from requests>=2.23.0->-r requirements.txt (line 12)) (2022.9.14)\n",
      "Requirement already satisfied: filelock in c:\\users\\91897\\anaconda3\\lib\\site-packages (from torch>=1.8.0->-r requirements.txt (line 15)) (3.6.0)\n",
      "Requirement already satisfied: typing-extensions in c:\\users\\91897\\anaconda3\\lib\\site-packages (from torch>=1.8.0->-r requirements.txt (line 15)) (4.5.0)\n",
      "Requirement already satisfied: sympy in c:\\users\\91897\\anaconda3\\lib\\site-packages (from torch>=1.8.0->-r requirements.txt (line 15)) (1.10.1)\n",
      "Requirement already satisfied: networkx in c:\\users\\91897\\anaconda3\\lib\\site-packages (from torch>=1.8.0->-r requirements.txt (line 15)) (2.8.4)\n",
      "Requirement already satisfied: jinja2 in c:\\users\\91897\\anaconda3\\lib\\site-packages (from torch>=1.8.0->-r requirements.txt (line 15)) (2.11.3)\n",
      "Requirement already satisfied: fsspec in c:\\users\\91897\\anaconda3\\lib\\site-packages (from torch>=1.8.0->-r requirements.txt (line 15)) (2022.7.1)\n",
      "Requirement already satisfied: colorama in c:\\users\\91897\\anaconda3\\lib\\site-packages (from tqdm>=4.64.0->-r requirements.txt (line 17)) (0.4.6)\n",
      "Requirement already satisfied: py-cpuinfo in c:\\users\\91897\\anaconda3\\lib\\site-packages (from ultralytics>=8.0.147->-r requirements.txt (line 18)) (9.0.0)\n",
      "Requirement already satisfied: pytz>=2020.1 in c:\\users\\91897\\anaconda3\\lib\\site-packages (from pandas>=1.1.4->-r requirements.txt (line 27)) (2022.1)\n",
      "Requirement already satisfied: smmap<6,>=3.0.1 in c:\\users\\91897\\anaconda3\\lib\\site-packages (from gitdb<5,>=4.0.1->gitpython>=3.1.30->-r requirements.txt (line 5)) (5.0.1)\n",
      "Requirement already satisfied: six>=1.5 in c:\\users\\91897\\anaconda3\\lib\\site-packages (from python-dateutil>=2.7->matplotlib>=3.3->-r requirements.txt (line 6)) (1.15.0)\n",
      "Requirement already satisfied: MarkupSafe>=0.23 in c:\\users\\91897\\anaconda3\\lib\\site-packages (from jinja2->torch>=1.8.0->-r requirements.txt (line 15)) (2.0.1)\n",
      "Requirement already satisfied: mpmath>=0.19 in c:\\users\\91897\\anaconda3\\lib\\site-packages (from sympy->torch>=1.8.0->-r requirements.txt (line 15)) (1.2.1)\n"
     ]
    },
    {
     "name": "stderr",
     "output_type": "stream",
     "text": [
      "WARNING: Ignoring invalid distribution -rotobuf (c:\\users\\91897\\anaconda3\\lib\\site-packages)\n",
      "WARNING: Ignoring invalid distribution -treamlit (c:\\users\\91897\\anaconda3\\lib\\site-packages)\n",
      "WARNING: Ignoring invalid distribution -rotobuf (c:\\users\\91897\\anaconda3\\lib\\site-packages)\n",
      "WARNING: Ignoring invalid distribution -treamlit (c:\\users\\91897\\anaconda3\\lib\\site-packages)\n"
     ]
    }
   ],
   "source": [
    "!cd yolov5 & pip install -r requirements.txt"
   ]
  },
  {
   "cell_type": "code",
   "execution_count": 4,
   "id": "ca114db1",
   "metadata": {},
   "outputs": [],
   "source": [
    "import torch\n",
    "import matplotlib.pyplot as plt\n",
    "import cv2\n",
    "import numpy as np"
   ]
  },
  {
   "cell_type": "markdown",
   "id": "a5427b47",
   "metadata": {},
   "source": [
    "### COLLECTING IMAGES"
   ]
  },
  {
   "cell_type": "code",
   "execution_count": 5,
   "id": "197c583e",
   "metadata": {},
   "outputs": [
    {
     "name": "stdout",
     "output_type": "stream",
     "text": [
      "Collecting images for real.\n",
      "Collecting images for real for image number 0.\n",
      "Image saved: data\\images\\real_0.jpg\n",
      "Collecting images for real for image number 1.\n",
      "Image saved: data\\images\\real_1.jpg\n",
      "Collecting images for real for image number 2.\n",
      "Image saved: data\\images\\real_2.jpg\n",
      "Collecting images for real for image number 3.\n",
      "Image saved: data\\images\\real_3.jpg\n",
      "Collecting images for real for image number 4.\n",
      "Image saved: data\\images\\real_4.jpg\n",
      "Collecting images for real for image number 5.\n",
      "Image saved: data\\images\\real_5.jpg\n",
      "Collecting images for real for image number 6.\n",
      "Image saved: data\\images\\real_6.jpg\n",
      "Collecting images for real for image number 7.\n",
      "Image saved: data\\images\\real_7.jpg\n",
      "Collecting images for real for image number 8.\n",
      "Image saved: data\\images\\real_8.jpg\n",
      "Collecting images for real for image number 9.\n",
      "Image saved: data\\images\\real_9.jpg\n",
      "Collecting images for real for image number 10.\n",
      "Image saved: data\\images\\real_10.jpg\n",
      "Collecting images for real for image number 11.\n",
      "Image saved: data\\images\\real_11.jpg\n",
      "Collecting images for real for image number 12.\n",
      "Image saved: data\\images\\real_12.jpg\n",
      "Collecting images for real for image number 13.\n",
      "Image saved: data\\images\\real_13.jpg\n",
      "Collecting images for real for image number 14.\n",
      "Image saved: data\\images\\real_14.jpg\n",
      "Collecting images for real for image number 15.\n",
      "Image saved: data\\images\\real_15.jpg\n",
      "Collecting images for real for image number 16.\n",
      "Image saved: data\\images\\real_16.jpg\n",
      "Collecting images for real for image number 17.\n",
      "Image saved: data\\images\\real_17.jpg\n",
      "Collecting images for real for image number 18.\n",
      "Image saved: data\\images\\real_18.jpg\n",
      "Collecting images for real for image number 19.\n",
      "Image saved: data\\images\\real_19.jpg\n",
      "Collecting images for real for image number 20.\n",
      "Image saved: data\\images\\real_20.jpg\n",
      "Collecting images for real for image number 21.\n",
      "Image saved: data\\images\\real_21.jpg\n",
      "Collecting images for real for image number 22.\n",
      "Image saved: data\\images\\real_22.jpg\n",
      "Collecting images for real for image number 23.\n",
      "Image saved: data\\images\\real_23.jpg\n",
      "Collecting images for real for image number 24.\n",
      "Image saved: data\\images\\real_24.jpg\n",
      "Collecting images for real for image number 25.\n",
      "Image saved: data\\images\\real_25.jpg\n",
      "Collecting images for real for image number 26.\n",
      "Image saved: data\\images\\real_26.jpg\n",
      "Collecting images for real for image number 27.\n",
      "Image saved: data\\images\\real_27.jpg\n",
      "Collecting images for real for image number 28.\n",
      "Image saved: data\\images\\real_28.jpg\n",
      "Collecting images for real for image number 29.\n",
      "Image saved: data\\images\\real_29.jpg\n",
      "Collecting images for fake.\n",
      "Collecting images for fake for image number 0.\n",
      "Image saved: data\\images\\fake_0.jpg\n",
      "Collecting images for fake for image number 1.\n",
      "Image saved: data\\images\\fake_1.jpg\n",
      "Collecting images for fake for image number 2.\n",
      "Image saved: data\\images\\fake_2.jpg\n",
      "Collecting images for fake for image number 3.\n",
      "Image saved: data\\images\\fake_3.jpg\n",
      "Collecting images for fake for image number 4.\n",
      "Image saved: data\\images\\fake_4.jpg\n",
      "Collecting images for fake for image number 5.\n",
      "Image saved: data\\images\\fake_5.jpg\n",
      "Collecting images for fake for image number 6.\n",
      "Image saved: data\\images\\fake_6.jpg\n",
      "Collecting images for fake for image number 7.\n",
      "Image saved: data\\images\\fake_7.jpg\n",
      "Collecting images for fake for image number 8.\n",
      "Image saved: data\\images\\fake_8.jpg\n",
      "Collecting images for fake for image number 9.\n",
      "Image saved: data\\images\\fake_9.jpg\n",
      "Collecting images for fake for image number 10.\n",
      "Image saved: data\\images\\fake_10.jpg\n",
      "Collecting images for fake for image number 11.\n",
      "Image saved: data\\images\\fake_11.jpg\n",
      "Collecting images for fake for image number 12.\n",
      "Image saved: data\\images\\fake_12.jpg\n",
      "Collecting images for fake for image number 13.\n",
      "Image saved: data\\images\\fake_13.jpg\n",
      "Collecting images for fake for image number 14.\n",
      "Image saved: data\\images\\fake_14.jpg\n",
      "Collecting images for fake for image number 15.\n",
      "Image saved: data\\images\\fake_15.jpg\n",
      "Collecting images for fake for image number 16.\n",
      "Image saved: data\\images\\fake_16.jpg\n",
      "Collecting images for fake for image number 17.\n",
      "Image saved: data\\images\\fake_17.jpg\n",
      "Collecting images for fake for image number 18.\n",
      "Image saved: data\\images\\fake_18.jpg\n",
      "Collecting images for fake for image number 19.\n",
      "Image saved: data\\images\\fake_19.jpg\n",
      "Collecting images for fake for image number 20.\n",
      "Image saved: data\\images\\fake_20.jpg\n",
      "Collecting images for fake for image number 21.\n",
      "Image saved: data\\images\\fake_21.jpg\n",
      "Collecting images for fake for image number 22.\n",
      "Image saved: data\\images\\fake_22.jpg\n",
      "Collecting images for fake for image number 23.\n",
      "Image saved: data\\images\\fake_23.jpg\n",
      "Collecting images for fake for image number 24.\n",
      "Image saved: data\\images\\fake_24.jpg\n",
      "Collecting images for fake for image number 25.\n",
      "Image saved: data\\images\\fake_25.jpg\n",
      "Collecting images for fake for image number 26.\n",
      "Image saved: data\\images\\fake_26.jpg\n",
      "Collecting images for fake for image number 27.\n",
      "Image saved: data\\images\\fake_27.jpg\n",
      "Collecting images for fake for image number 28.\n",
      "Image saved: data\\images\\fake_28.jpg\n",
      "Collecting images for fake for image number 29.\n",
      "Image saved: data\\images\\fake_29.jpg\n"
     ]
    }
   ],
   "source": [
    "import os\n",
    "import cv2\n",
    "import time\n",
    "\n",
    "# Create directories for images\n",
    "IMAGES_PATH = os.path.join(\"data\", \"images\")\n",
    "if not os.path.exists(IMAGES_PATH):\n",
    "    os.makedirs(IMAGES_PATH)\n",
    "\n",
    "labels = [\"real\",\"fake\"]\n",
    "number_images = 30\n",
    "\n",
    "cap = cv2.VideoCapture(0)\n",
    "\n",
    "for label in labels:\n",
    "    print(\"Collecting images for {}.\".format(label))\n",
    "    time.sleep(3)  # Give time to prepare before capturing images\n",
    "\n",
    "    for img_num in range(number_images):\n",
    "        print(\"Collecting images for {} for image number {}.\".format(label, img_num))\n",
    "\n",
    "        ret, frame = cap.read()\n",
    "        cv2.imshow(\"Image Collection\", frame)\n",
    "        key = cv2.waitKey(0)\n",
    "\n",
    "        if key == ord('s'):  # Press 's' to save images\n",
    "            img_name = os.path.join(IMAGES_PATH, label + \"_\" + str(img_num) + \".jpg\")\n",
    "            cv2.imwrite(img_name, frame)\n",
    "            print(\"Image saved:\", img_name)\n",
    "            time.sleep(1)  # Optional delay to see the confirmation\n",
    "        elif key == ord('q'):  # Press 'q' to quit the process\n",
    "            break\n",
    "\n",
    "    if key == ord('q'):\n",
    "        break\n",
    "\n",
    "cap.release()\n",
    "cv2.destroyAllWindows()\n"
   ]
  },
  {
   "cell_type": "code",
   "execution_count": 6,
   "id": "df1ce11a",
   "metadata": {},
   "outputs": [
    {
     "name": "stderr",
     "output_type": "stream",
     "text": [
      "Cloning into 'labelImg'...\n"
     ]
    }
   ],
   "source": [
    "!git clone https://github.com/HumanSignal/labelImg"
   ]
  },
  {
   "cell_type": "code",
   "execution_count": 7,
   "id": "7ade0583",
   "metadata": {},
   "outputs": [
    {
     "name": "stdout",
     "output_type": "stream",
     "text": [
      "Requirement already satisfied: pyqt5 in c:\\users\\91897\\anaconda3\\lib\\site-packages (5.15.10)\n",
      "Requirement already satisfied: lxml in c:\\users\\91897\\anaconda3\\lib\\site-packages (4.9.3)\n",
      "Requirement already satisfied: PyQt5-sip<13,>=12.13 in c:\\users\\91897\\anaconda3\\lib\\site-packages (from pyqt5) (12.13.0)\n",
      "Requirement already satisfied: PyQt5-Qt5>=5.15.2 in c:\\users\\91897\\anaconda3\\lib\\site-packages (from pyqt5) (5.15.2)\n"
     ]
    },
    {
     "name": "stderr",
     "output_type": "stream",
     "text": [
      "WARNING: Ignoring invalid distribution -rotobuf (c:\\users\\91897\\anaconda3\\lib\\site-packages)\n",
      "WARNING: Ignoring invalid distribution -treamlit (c:\\users\\91897\\anaconda3\\lib\\site-packages)\n",
      "WARNING: Ignoring invalid distribution -rotobuf (c:\\users\\91897\\anaconda3\\lib\\site-packages)\n",
      "WARNING: Ignoring invalid distribution -treamlit (c:\\users\\91897\\anaconda3\\lib\\site-packages)\n"
     ]
    }
   ],
   "source": [
    "!pip install pyqt5 lxml --upgrade\n",
    "!cd labelImg && pyrcc5 -o libs/resources.py resources.qrc"
   ]
  },
  {
   "cell_type": "code",
   "execution_count": 11,
   "id": "77a28c1c",
   "metadata": {},
   "outputs": [
    {
     "name": "stdout",
     "output_type": "stream",
     "text": [
      "Cancel creation.\n",
      "Image:E:\\SPOOF DETECTOR\\data\\images\\fake_1.jpg -> Annotation:E:/SPOOF DETECTOR/data/images\\fake_1.txt\n",
      "Image:E:\\SPOOF DETECTOR\\data\\images\\fake_2.jpg -> Annotation:E:/SPOOF DETECTOR/data/images\\fake_2.txt\n",
      "Cancel creation.\n",
      "Image:E:\\SPOOF DETECTOR\\data\\images\\fake_3.jpg -> Annotation:E:/SPOOF DETECTOR/data/images\\fake_3.txt\n",
      "Image:E:\\SPOOF DETECTOR\\data\\images\\fake_4.jpg -> Annotation:E:/SPOOF DETECTOR/data/images\\fake_4.txt\n",
      "Image:E:\\SPOOF DETECTOR\\data\\images\\fake_5.jpg -> Annotation:E:/SPOOF DETECTOR/data/images\\fake_5.txt\n",
      "Image:E:\\SPOOF DETECTOR\\data\\images\\fake_6.jpg -> Annotation:E:/SPOOF DETECTOR/data/images\\fake_6.txt\n",
      "Image:E:\\SPOOF DETECTOR\\data\\images\\fake_7.jpg -> Annotation:E:/SPOOF DETECTOR/data/images\\fake_7.txt\n",
      "Image:E:\\SPOOF DETECTOR\\data\\images\\fake_8.jpg -> Annotation:E:/SPOOF DETECTOR/data/images\\fake_8.txt\n",
      "Image:E:\\SPOOF DETECTOR\\data\\images\\fake_9.jpg -> Annotation:E:/SPOOF DETECTOR/data/images\\fake_9.txt\n",
      "Image:E:\\SPOOF DETECTOR\\data\\images\\fake_10.jpg -> Annotation:E:/SPOOF DETECTOR/data/images\\fake_10.txt\n",
      "Image:E:\\SPOOF DETECTOR\\data\\images\\fake_11.jpg -> Annotation:E:/SPOOF DETECTOR/data/images\\fake_11.txt\n",
      "Image:E:\\SPOOF DETECTOR\\data\\images\\fake_12.jpg -> Annotation:E:/SPOOF DETECTOR/data/images\\fake_12.txt\n",
      "Image:E:\\SPOOF DETECTOR\\data\\images\\fake_13.jpg -> Annotation:E:/SPOOF DETECTOR/data/images\\fake_13.txt\n",
      "Image:E:\\SPOOF DETECTOR\\data\\images\\fake_14.jpg -> Annotation:E:/SPOOF DETECTOR/data/images\\fake_14.txt\n",
      "Image:E:\\SPOOF DETECTOR\\data\\images\\fake_15.jpg -> Annotation:E:/SPOOF DETECTOR/data/images\\fake_15.txt\n",
      "Image:E:\\SPOOF DETECTOR\\data\\images\\fake_16.jpg -> Annotation:E:/SPOOF DETECTOR/data/images\\fake_16.txt\n",
      "Image:E:\\SPOOF DETECTOR\\data\\images\\fake_17.jpg -> Annotation:E:/SPOOF DETECTOR/data/images\\fake_17.txt\n",
      "Image:E:\\SPOOF DETECTOR\\data\\images\\fake_18.jpg -> Annotation:E:/SPOOF DETECTOR/data/images\\fake_18.txt\n",
      "Image:E:\\SPOOF DETECTOR\\data\\images\\fake_19.jpg -> Annotation:E:/SPOOF DETECTOR/data/images\\fake_19.txt\n",
      "Image:E:\\SPOOF DETECTOR\\data\\images\\fake_20.jpg -> Annotation:E:/SPOOF DETECTOR/data/images\\fake_20.txt\n",
      "Image:E:\\SPOOF DETECTOR\\data\\images\\fake_21.jpg -> Annotation:E:/SPOOF DETECTOR/data/images\\fake_21.txt\n",
      "Image:E:\\SPOOF DETECTOR\\data\\images\\fake_22.jpg -> Annotation:E:/SPOOF DETECTOR/data/images\\fake_22.txt\n",
      "Image:E:\\SPOOF DETECTOR\\data\\images\\fake_23.jpg -> Annotation:E:/SPOOF DETECTOR/data/images\\fake_23.txt\n",
      "Image:E:\\SPOOF DETECTOR\\data\\images\\fake_24.jpg -> Annotation:E:/SPOOF DETECTOR/data/images\\fake_24.txt\n",
      "Image:E:\\SPOOF DETECTOR\\data\\images\\fake_25.jpg -> Annotation:E:/SPOOF DETECTOR/data/images\\fake_25.txt\n",
      "Image:E:\\SPOOF DETECTOR\\data\\images\\fake_26.jpg -> Annotation:E:/SPOOF DETECTOR/data/images\\fake_26.txt\n",
      "Image:E:\\SPOOF DETECTOR\\data\\images\\fake_27.jpg -> Annotation:E:/SPOOF DETECTOR/data/images\\fake_27.txt\n",
      "Image:E:\\SPOOF DETECTOR\\data\\images\\fake_28.jpg -> Annotation:E:/SPOOF DETECTOR/data/images\\fake_28.txt\n",
      "Image:E:\\SPOOF DETECTOR\\data\\images\\fake_29.jpg -> Annotation:E:/SPOOF DETECTOR/data/images\\fake_29.txt\n",
      "Cancel creation.\n",
      "Image:E:\\SPOOF DETECTOR\\data\\images\\real_1.jpg -> Annotation:E:/SPOOF DETECTOR/data/images\\real_1.txt\n",
      "Image:E:\\SPOOF DETECTOR\\data\\images\\real_2.jpg -> Annotation:E:/SPOOF DETECTOR/data/images\\real_2.txt\n",
      "Image:E:\\SPOOF DETECTOR\\data\\images\\real_3.jpg -> Annotation:E:/SPOOF DETECTOR/data/images\\real_3.txt\n",
      "Image:E:\\SPOOF DETECTOR\\data\\images\\real_4.jpg -> Annotation:E:/SPOOF DETECTOR/data/images\\real_4.txt\n",
      "Image:E:\\SPOOF DETECTOR\\data\\images\\real_5.jpg -> Annotation:E:/SPOOF DETECTOR/data/images\\real_5.txt\n",
      "Image:E:\\SPOOF DETECTOR\\data\\images\\real_6.jpg -> Annotation:E:/SPOOF DETECTOR/data/images\\real_6.txt\n",
      "Image:E:\\SPOOF DETECTOR\\data\\images\\real_7.jpg -> Annotation:E:/SPOOF DETECTOR/data/images\\real_7.txt\n",
      "Image:E:\\SPOOF DETECTOR\\data\\images\\real_8.jpg -> Annotation:E:/SPOOF DETECTOR/data/images\\real_8.txt\n",
      "Image:E:\\SPOOF DETECTOR\\data\\images\\real_9.jpg -> Annotation:E:/SPOOF DETECTOR/data/images\\real_9.txt\n",
      "Image:E:\\SPOOF DETECTOR\\data\\images\\real_10.jpg -> Annotation:E:/SPOOF DETECTOR/data/images\\real_10.txt\n",
      "Image:E:\\SPOOF DETECTOR\\data\\images\\real_11.jpg -> Annotation:E:/SPOOF DETECTOR/data/images\\real_11.txt\n",
      "Image:E:\\SPOOF DETECTOR\\data\\images\\real_12.jpg -> Annotation:E:/SPOOF DETECTOR/data/images\\real_12.txt\n",
      "Image:E:\\SPOOF DETECTOR\\data\\images\\real_13.jpg -> Annotation:E:/SPOOF DETECTOR/data/images\\real_13.txt\n",
      "Image:E:\\SPOOF DETECTOR\\data\\images\\real_14.jpg -> Annotation:E:/SPOOF DETECTOR/data/images\\real_14.txt\n",
      "Image:E:\\SPOOF DETECTOR\\data\\images\\real_15.jpg -> Annotation:E:/SPOOF DETECTOR/data/images\\real_15.txt\n",
      "Image:E:\\SPOOF DETECTOR\\data\\images\\real_16.jpg -> Annotation:E:/SPOOF DETECTOR/data/images\\real_16.txt\n",
      "Image:E:\\SPOOF DETECTOR\\data\\images\\real_17.jpg -> Annotation:E:/SPOOF DETECTOR/data/images\\real_17.txt\n",
      "Image:E:\\SPOOF DETECTOR\\data\\images\\real_18.jpg -> Annotation:E:/SPOOF DETECTOR/data/images\\real_18.txt\n",
      "Image:E:\\SPOOF DETECTOR\\data\\images\\real_19.jpg -> Annotation:E:/SPOOF DETECTOR/data/images\\real_19.txt\n",
      "Image:E:\\SPOOF DETECTOR\\data\\images\\real_20.jpg -> Annotation:E:/SPOOF DETECTOR/data/images\\real_20.txt\n",
      "Image:E:\\SPOOF DETECTOR\\data\\images\\real_21.jpg -> Annotation:E:/SPOOF DETECTOR/data/images\\real_21.txt\n",
      "Image:E:\\SPOOF DETECTOR\\data\\images\\real_22.jpg -> Annotation:E:/SPOOF DETECTOR/data/images\\real_22.txt\n",
      "Image:E:\\SPOOF DETECTOR\\data\\images\\real_23.jpg -> Annotation:E:/SPOOF DETECTOR/data/images\\real_23.txt\n",
      "Image:E:\\SPOOF DETECTOR\\data\\images\\real_24.jpg -> Annotation:E:/SPOOF DETECTOR/data/images\\real_24.txt\n",
      "Image:E:\\SPOOF DETECTOR\\data\\images\\real_25.jpg -> Annotation:E:/SPOOF DETECTOR/data/images\\real_25.txt\n",
      "Image:E:\\SPOOF DETECTOR\\data\\images\\real_26.jpg -> Annotation:E:/SPOOF DETECTOR/data/images\\real_26.txt\n",
      "Image:E:\\SPOOF DETECTOR\\data\\images\\real_27.jpg -> Annotation:E:/SPOOF DETECTOR/data/images\\real_27.txt\n",
      "Image:E:\\SPOOF DETECTOR\\data\\images\\real_28.jpg -> Annotation:E:/SPOOF DETECTOR/data/images\\real_28.txt\n",
      "Image:E:\\SPOOF DETECTOR\\data\\images\\real_29.jpg -> Annotation:E:/SPOOF DETECTOR/data/images\\real_29.txt\n"
     ]
    }
   ],
   "source": [
    "!cd labelImg & python labelImg.py\n"
   ]
  },
  {
   "cell_type": "code",
   "execution_count": 19,
   "id": "88cd6fec",
   "metadata": {},
   "outputs": [
    {
     "name": "stdout",
     "output_type": "stream",
     "text": [
      "^C\n"
     ]
    }
   ],
   "source": [
    "!cd yolov5 && python train.py --img 320 --batch 16 --epochs 50 --data dataset.yml --weights yolov5m.pt"
   ]
  },
  {
   "cell_type": "code",
   "execution_count": 13,
   "id": "03061f75",
   "metadata": {},
   "outputs": [
    {
     "name": "stderr",
     "output_type": "stream",
     "text": [
      "Using cache found in C:\\Users\\91897/.cache\\torch\\hub\\ultralytics_yolov5_master\n",
      "YOLOv5  2023-11-10 Python-3.9.13 torch-2.1.0+cpu CPU\n",
      "\n",
      "Downloading https://github.com/ultralytics/yolov5/releases/download/v7.0/yolov5n.pt to yolov5n.pt...\n",
      "100%|██████████████████████████████████████████████████████████████████████████████| 3.87M/3.87M [00:09<00:00, 442kB/s]\n",
      "\n",
      "Fusing layers... \n",
      "YOLOv5n summary: 213 layers, 1867405 parameters, 0 gradients, 4.5 GFLOPs\n",
      "Adding AutoShape... \n"
     ]
    }
   ],
   "source": [
    "model = torch.hub.load(\"ultralytics/yolov5\" , \"yolov5n\")"
   ]
  },
  {
   "cell_type": "code",
   "execution_count": 20,
   "id": "2009440b",
   "metadata": {},
   "outputs": [
    {
     "name": "stderr",
     "output_type": "stream",
     "text": [
      "Downloading: \"https://github.com/ultralytics/yolov5/zipball/master\" to C:\\Users\\91897/.cache\\torch\\hub\\master.zip\n",
      "YOLOv5  2023-11-14 Python-3.9.13 torch-2.1.0+cpu CPU\n",
      "\n",
      "Fusing layers... \n",
      "Model summary: 212 layers, 20917590 parameters, 0 gradients, 48.1 GFLOPs\n",
      "Adding AutoShape... \n"
     ]
    }
   ],
   "source": [
    "model = torch.hub.load(\"ultralytics/yolov5\" , \"custom\" , path=\"yolov5/runs/train/exp4/weights/best.pt\" , force_reload=True)"
   ]
  },
  {
   "cell_type": "code",
   "execution_count": 22,
   "id": "fae70bae",
   "metadata": {},
   "outputs": [],
   "source": [
    "cap = cv2.VideoCapture(0)\n",
    "while cap.isOpened():\n",
    "    ret , frame = cap.read()\n",
    "    results = model(frame)\n",
    "    \n",
    "    cv2.imshow(\"YOLO\" , np.squeeze(results.render()))\n",
    "    \n",
    "    if cv2.waitKey(10) & 0xff == ord('q'):\n",
    "        break\n",
    "cap.release()\n",
    "cv2.destroyAllWindows()"
   ]
  },
  {
   "cell_type": "code",
   "execution_count": null,
   "id": "aef1b654",
   "metadata": {},
   "outputs": [],
   "source": []
  }
 ],
 "metadata": {
  "kernelspec": {
   "display_name": "Python 3 (ipykernel)",
   "language": "python",
   "name": "python3"
  },
  "language_info": {
   "codemirror_mode": {
    "name": "ipython",
    "version": 3
   },
   "file_extension": ".py",
   "mimetype": "text/x-python",
   "name": "python",
   "nbconvert_exporter": "python",
   "pygments_lexer": "ipython3",
   "version": "3.9.13"
  }
 },
 "nbformat": 4,
 "nbformat_minor": 5
}
